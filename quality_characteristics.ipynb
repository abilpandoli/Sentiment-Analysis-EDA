{
 "cells": [
  {
   "cell_type": "markdown",
   "metadata": {},
   "source": [
    "# Sentiment Analysis"
   ]
  },
  {
   "cell_type": "markdown",
   "metadata": {},
   "source": [
    "## Imports"
   ]
  },
  {
   "cell_type": "code",
   "execution_count": 1,
   "metadata": {},
   "outputs": [],
   "source": [
    "import pandas as pd\n",
    "import numpy as np\n",
    "import matplotlib.pyplot as plt\n",
    "import seaborn as sns\n",
    "\n",
    "import nltk"
   ]
  },
  {
   "cell_type": "code",
   "execution_count": 2,
   "metadata": {},
   "outputs": [],
   "source": [
    "product_df =  pd.read_csv('Reviews.csv')"
   ]
  },
  {
   "cell_type": "code",
   "execution_count": 3,
   "metadata": {},
   "outputs": [
    {
     "data": {
      "text/plain": [
       "(568454, 10)"
      ]
     },
     "execution_count": 3,
     "metadata": {},
     "output_type": "execute_result"
    }
   ],
   "source": [
    "product_df.shape"
   ]
  },
  {
   "cell_type": "code",
   "execution_count": 4,
   "metadata": {},
   "outputs": [
    {
     "data": {
      "text/html": [
       "<div>\n",
       "<style scoped>\n",
       "    .dataframe tbody tr th:only-of-type {\n",
       "        vertical-align: middle;\n",
       "    }\n",
       "\n",
       "    .dataframe tbody tr th {\n",
       "        vertical-align: top;\n",
       "    }\n",
       "\n",
       "    .dataframe thead th {\n",
       "        text-align: right;\n",
       "    }\n",
       "</style>\n",
       "<table border=\"1\" class=\"dataframe\">\n",
       "  <thead>\n",
       "    <tr style=\"text-align: right;\">\n",
       "      <th></th>\n",
       "      <th>Id</th>\n",
       "      <th>ProductId</th>\n",
       "      <th>UserId</th>\n",
       "      <th>ProfileName</th>\n",
       "      <th>HelpfulnessNumerator</th>\n",
       "      <th>HelpfulnessDenominator</th>\n",
       "      <th>Score</th>\n",
       "      <th>Time</th>\n",
       "      <th>Summary</th>\n",
       "      <th>Text</th>\n",
       "    </tr>\n",
       "  </thead>\n",
       "  <tbody>\n",
       "    <tr>\n",
       "      <th>0</th>\n",
       "      <td>1</td>\n",
       "      <td>B001E4KFG0</td>\n",
       "      <td>A3SGXH7AUHU8GW</td>\n",
       "      <td>delmartian</td>\n",
       "      <td>1</td>\n",
       "      <td>1</td>\n",
       "      <td>5</td>\n",
       "      <td>1303862400</td>\n",
       "      <td>Good Quality Dog Food</td>\n",
       "      <td>I have bought several of the Vitality canned d...</td>\n",
       "    </tr>\n",
       "    <tr>\n",
       "      <th>1</th>\n",
       "      <td>2</td>\n",
       "      <td>B00813GRG4</td>\n",
       "      <td>A1D87F6ZCVE5NK</td>\n",
       "      <td>dll pa</td>\n",
       "      <td>0</td>\n",
       "      <td>0</td>\n",
       "      <td>1</td>\n",
       "      <td>1346976000</td>\n",
       "      <td>Not as Advertised</td>\n",
       "      <td>Product arrived labeled as Jumbo Salted Peanut...</td>\n",
       "    </tr>\n",
       "    <tr>\n",
       "      <th>2</th>\n",
       "      <td>3</td>\n",
       "      <td>B000LQOCH0</td>\n",
       "      <td>ABXLMWJIXXAIN</td>\n",
       "      <td>Natalia Corres \"Natalia Corres\"</td>\n",
       "      <td>1</td>\n",
       "      <td>1</td>\n",
       "      <td>4</td>\n",
       "      <td>1219017600</td>\n",
       "      <td>\"Delight\" says it all</td>\n",
       "      <td>This is a confection that has been around a fe...</td>\n",
       "    </tr>\n",
       "    <tr>\n",
       "      <th>3</th>\n",
       "      <td>4</td>\n",
       "      <td>B000UA0QIQ</td>\n",
       "      <td>A395BORC6FGVXV</td>\n",
       "      <td>Karl</td>\n",
       "      <td>3</td>\n",
       "      <td>3</td>\n",
       "      <td>2</td>\n",
       "      <td>1307923200</td>\n",
       "      <td>Cough Medicine</td>\n",
       "      <td>If you are looking for the secret ingredient i...</td>\n",
       "    </tr>\n",
       "    <tr>\n",
       "      <th>4</th>\n",
       "      <td>5</td>\n",
       "      <td>B006K2ZZ7K</td>\n",
       "      <td>A1UQRSCLF8GW1T</td>\n",
       "      <td>Michael D. Bigham \"M. Wassir\"</td>\n",
       "      <td>0</td>\n",
       "      <td>0</td>\n",
       "      <td>5</td>\n",
       "      <td>1350777600</td>\n",
       "      <td>Great taffy</td>\n",
       "      <td>Great taffy at a great price.  There was a wid...</td>\n",
       "    </tr>\n",
       "  </tbody>\n",
       "</table>\n",
       "</div>"
      ],
      "text/plain": [
       "   Id   ProductId          UserId                      ProfileName  \\\n",
       "0   1  B001E4KFG0  A3SGXH7AUHU8GW                       delmartian   \n",
       "1   2  B00813GRG4  A1D87F6ZCVE5NK                           dll pa   \n",
       "2   3  B000LQOCH0   ABXLMWJIXXAIN  Natalia Corres \"Natalia Corres\"   \n",
       "3   4  B000UA0QIQ  A395BORC6FGVXV                             Karl   \n",
       "4   5  B006K2ZZ7K  A1UQRSCLF8GW1T    Michael D. Bigham \"M. Wassir\"   \n",
       "\n",
       "   HelpfulnessNumerator  HelpfulnessDenominator  Score        Time  \\\n",
       "0                     1                       1      5  1303862400   \n",
       "1                     0                       0      1  1346976000   \n",
       "2                     1                       1      4  1219017600   \n",
       "3                     3                       3      2  1307923200   \n",
       "4                     0                       0      5  1350777600   \n",
       "\n",
       "                 Summary                                               Text  \n",
       "0  Good Quality Dog Food  I have bought several of the Vitality canned d...  \n",
       "1      Not as Advertised  Product arrived labeled as Jumbo Salted Peanut...  \n",
       "2  \"Delight\" says it all  This is a confection that has been around a fe...  \n",
       "3         Cough Medicine  If you are looking for the secret ingredient i...  \n",
       "4            Great taffy  Great taffy at a great price.  There was a wid...  "
      ]
     },
     "execution_count": 4,
     "metadata": {},
     "output_type": "execute_result"
    }
   ],
   "source": [
    "product_df.head()"
   ]
  },
  {
   "cell_type": "code",
   "execution_count": 11,
   "metadata": {},
   "outputs": [
    {
     "data": {
      "text/plain": [
       "ProductId\n",
       "B007JFMH8M    913\n",
       "B0026RQTGE    632\n",
       "B002QWHJOU    632\n",
       "B002QWP89S    632\n",
       "B002QWP8H0    632\n",
       "B003B3OOPA    623\n",
       "B001EO5Q64    567\n",
       "B000VK8AVK    564\n",
       "B0026KNQSA    564\n",
       "B007M83302    564\n",
       "B001RVFEP2    564\n",
       "B001RVFERK    564\n",
       "B007M832YY    564\n",
       "B0026KPDG8    564\n",
       "B006HYLW32    564\n",
       "B0013NUGDE    564\n",
       "B000KV7ZGQ    556\n",
       "B000KV61FC    556\n",
       "B0013A0QXC    542\n",
       "B005K4Q37A    542\n",
       "Name: count, dtype: int64"
      ]
     },
     "execution_count": 11,
     "metadata": {},
     "output_type": "execute_result"
    }
   ],
   "source": [
    "product_df['ProductId'].value_counts().nlargest(20)"
   ]
  },
  {
   "cell_type": "code",
   "execution_count": 14,
   "metadata": {},
   "outputs": [],
   "source": [
    "data_df = product_df.loc[product_df['ProductId']=='B001RVFERK'].copy()"
   ]
  },
  {
   "cell_type": "code",
   "execution_count": 15,
   "metadata": {},
   "outputs": [
    {
     "data": {
      "text/html": [
       "<div>\n",
       "<style scoped>\n",
       "    .dataframe tbody tr th:only-of-type {\n",
       "        vertical-align: middle;\n",
       "    }\n",
       "\n",
       "    .dataframe tbody tr th {\n",
       "        vertical-align: top;\n",
       "    }\n",
       "\n",
       "    .dataframe thead th {\n",
       "        text-align: right;\n",
       "    }\n",
       "</style>\n",
       "<table border=\"1\" class=\"dataframe\">\n",
       "  <thead>\n",
       "    <tr style=\"text-align: right;\">\n",
       "      <th></th>\n",
       "      <th>Id</th>\n",
       "      <th>ProductId</th>\n",
       "      <th>UserId</th>\n",
       "      <th>ProfileName</th>\n",
       "      <th>HelpfulnessNumerator</th>\n",
       "      <th>HelpfulnessDenominator</th>\n",
       "      <th>Score</th>\n",
       "      <th>Time</th>\n",
       "      <th>Summary</th>\n",
       "      <th>Text</th>\n",
       "    </tr>\n",
       "  </thead>\n",
       "  <tbody>\n",
       "    <tr>\n",
       "      <th>485256</th>\n",
       "      <td>485257</td>\n",
       "      <td>B001RVFERK</td>\n",
       "      <td>A21SYVGVNG8RAS</td>\n",
       "      <td>Jennifer Sullivan</td>\n",
       "      <td>1</td>\n",
       "      <td>1</td>\n",
       "      <td>5</td>\n",
       "      <td>1298851200</td>\n",
       "      <td>Yummy snacks!</td>\n",
       "      <td>Popchips are the bomb!!  I use the parmesan ga...</td>\n",
       "    </tr>\n",
       "    <tr>\n",
       "      <th>485257</th>\n",
       "      <td>485258</td>\n",
       "      <td>B001RVFERK</td>\n",
       "      <td>AQJYXC0MPRQJL</td>\n",
       "      <td>B. Perrin</td>\n",
       "      <td>1</td>\n",
       "      <td>1</td>\n",
       "      <td>5</td>\n",
       "      <td>1298851200</td>\n",
       "      <td>Great chip that is different from the rest</td>\n",
       "      <td>I like the puffed nature of this chip that mak...</td>\n",
       "    </tr>\n",
       "    <tr>\n",
       "      <th>485258</th>\n",
       "      <td>485259</td>\n",
       "      <td>B001RVFERK</td>\n",
       "      <td>A30NYUHEDLWI0Y</td>\n",
       "      <td>Miriam \"Miriam\"</td>\n",
       "      <td>1</td>\n",
       "      <td>1</td>\n",
       "      <td>5</td>\n",
       "      <td>1291852800</td>\n",
       "      <td>Great  Alternative to Potato Chips</td>\n",
       "      <td>I just love these chips!  I was always a big f...</td>\n",
       "    </tr>\n",
       "    <tr>\n",
       "      <th>485259</th>\n",
       "      <td>485260</td>\n",
       "      <td>B001RVFERK</td>\n",
       "      <td>A2NU55U9LKTB5J</td>\n",
       "      <td>divarett</td>\n",
       "      <td>1</td>\n",
       "      <td>1</td>\n",
       "      <td>3</td>\n",
       "      <td>1286928000</td>\n",
       "      <td>Not somthing I would crave</td>\n",
       "      <td>These tasted like potatoe stix, that we got in...</td>\n",
       "    </tr>\n",
       "    <tr>\n",
       "      <th>485260</th>\n",
       "      <td>485261</td>\n",
       "      <td>B001RVFERK</td>\n",
       "      <td>A225F7QFP5LIW2</td>\n",
       "      <td>ccde</td>\n",
       "      <td>1</td>\n",
       "      <td>1</td>\n",
       "      <td>5</td>\n",
       "      <td>1286236800</td>\n",
       "      <td>healthy and delicious</td>\n",
       "      <td>These chips are great!  They look almost like ...</td>\n",
       "    </tr>\n",
       "  </tbody>\n",
       "</table>\n",
       "</div>"
      ],
      "text/plain": [
       "            Id   ProductId          UserId        ProfileName  \\\n",
       "485256  485257  B001RVFERK  A21SYVGVNG8RAS  Jennifer Sullivan   \n",
       "485257  485258  B001RVFERK   AQJYXC0MPRQJL          B. Perrin   \n",
       "485258  485259  B001RVFERK  A30NYUHEDLWI0Y    Miriam \"Miriam\"   \n",
       "485259  485260  B001RVFERK  A2NU55U9LKTB5J           divarett   \n",
       "485260  485261  B001RVFERK  A225F7QFP5LIW2               ccde   \n",
       "\n",
       "        HelpfulnessNumerator  HelpfulnessDenominator  Score        Time  \\\n",
       "485256                     1                       1      5  1298851200   \n",
       "485257                     1                       1      5  1298851200   \n",
       "485258                     1                       1      5  1291852800   \n",
       "485259                     1                       1      3  1286928000   \n",
       "485260                     1                       1      5  1286236800   \n",
       "\n",
       "                                           Summary  \\\n",
       "485256                               Yummy snacks!   \n",
       "485257  Great chip that is different from the rest   \n",
       "485258          Great  Alternative to Potato Chips   \n",
       "485259                  Not somthing I would crave   \n",
       "485260                       healthy and delicious   \n",
       "\n",
       "                                                     Text  \n",
       "485256  Popchips are the bomb!!  I use the parmesan ga...  \n",
       "485257  I like the puffed nature of this chip that mak...  \n",
       "485258  I just love these chips!  I was always a big f...  \n",
       "485259  These tasted like potatoe stix, that we got in...  \n",
       "485260  These chips are great!  They look almost like ...  "
      ]
     },
     "execution_count": 15,
     "metadata": {},
     "output_type": "execute_result"
    }
   ],
   "source": [
    "data_df.head()"
   ]
  },
  {
   "cell_type": "code",
   "execution_count": 17,
   "metadata": {},
   "outputs": [
    {
     "data": {
      "image/png": "[encoded data removed]",
      "text/plain": [
       "<Figure size 1500x700 with 1 Axes>"
      ]
     },
     "metadata": {},
     "output_type": "display_data"
    }
   ],
   "source": [
    "ax =  data_df['Score'].value_counts().sort_index().plot(kind='bar',figsize=(15,7))\n",
    "plt.show()"
   ]
  },
  {
   "cell_type": "code",
   "execution_count": 18,
   "metadata": {},
   "outputs": [],
   "source": [
    "data_df.reset_index(inplace=True,drop=True)"
   ]
  },
  {
   "cell_type": "code",
   "execution_count": 19,
   "metadata": {},
   "outputs": [
    {
     "data": {
      "text/html": [
       "<div>\n",
       "<style scoped>\n",
       "    .dataframe tbody tr th:only-of-type {\n",
       "        vertical-align: middle;\n",
       "    }\n",
       "\n",
       "    .dataframe tbody tr th {\n",
       "        vertical-align: top;\n",
       "    }\n",
       "\n",
       "    .dataframe thead th {\n",
       "        text-align: right;\n",
       "    }\n",
       "</style>\n",
       "<table border=\"1\" class=\"dataframe\">\n",
       "  <thead>\n",
       "    <tr style=\"text-align: right;\">\n",
       "      <th></th>\n",
       "      <th>Id</th>\n",
       "      <th>ProductId</th>\n",
       "      <th>UserId</th>\n",
       "      <th>ProfileName</th>\n",
       "      <th>HelpfulnessNumerator</th>\n",
       "      <th>HelpfulnessDenominator</th>\n",
       "      <th>Score</th>\n",
       "      <th>Time</th>\n",
       "      <th>Summary</th>\n",
       "      <th>Text</th>\n",
       "    </tr>\n",
       "  </thead>\n",
       "  <tbody>\n",
       "    <tr>\n",
       "      <th>0</th>\n",
       "      <td>485257</td>\n",
       "      <td>B001RVFERK</td>\n",
       "      <td>A21SYVGVNG8RAS</td>\n",
       "      <td>Jennifer Sullivan</td>\n",
       "      <td>1</td>\n",
       "      <td>1</td>\n",
       "      <td>5</td>\n",
       "      <td>1298851200</td>\n",
       "      <td>Yummy snacks!</td>\n",
       "      <td>Popchips are the bomb!!  I use the parmesan ga...</td>\n",
       "    </tr>\n",
       "    <tr>\n",
       "      <th>1</th>\n",
       "      <td>485258</td>\n",
       "      <td>B001RVFERK</td>\n",
       "      <td>AQJYXC0MPRQJL</td>\n",
       "      <td>B. Perrin</td>\n",
       "      <td>1</td>\n",
       "      <td>1</td>\n",
       "      <td>5</td>\n",
       "      <td>1298851200</td>\n",
       "      <td>Great chip that is different from the rest</td>\n",
       "      <td>I like the puffed nature of this chip that mak...</td>\n",
       "    </tr>\n",
       "    <tr>\n",
       "      <th>2</th>\n",
       "      <td>485259</td>\n",
       "      <td>B001RVFERK</td>\n",
       "      <td>A30NYUHEDLWI0Y</td>\n",
       "      <td>Miriam \"Miriam\"</td>\n",
       "      <td>1</td>\n",
       "      <td>1</td>\n",
       "      <td>5</td>\n",
       "      <td>1291852800</td>\n",
       "      <td>Great  Alternative to Potato Chips</td>\n",
       "      <td>I just love these chips!  I was always a big f...</td>\n",
       "    </tr>\n",
       "    <tr>\n",
       "      <th>3</th>\n",
       "      <td>485260</td>\n",
       "      <td>B001RVFERK</td>\n",
       "      <td>A2NU55U9LKTB5J</td>\n",
       "      <td>divarett</td>\n",
       "      <td>1</td>\n",
       "      <td>1</td>\n",
       "      <td>3</td>\n",
       "      <td>1286928000</td>\n",
       "      <td>Not somthing I would crave</td>\n",
       "      <td>These tasted like potatoe stix, that we got in...</td>\n",
       "    </tr>\n",
       "    <tr>\n",
       "      <th>4</th>\n",
       "      <td>485261</td>\n",
       "      <td>B001RVFERK</td>\n",
       "      <td>A225F7QFP5LIW2</td>\n",
       "      <td>ccde</td>\n",
       "      <td>1</td>\n",
       "      <td>1</td>\n",
       "      <td>5</td>\n",
       "      <td>1286236800</td>\n",
       "      <td>healthy and delicious</td>\n",
       "      <td>These chips are great!  They look almost like ...</td>\n",
       "    </tr>\n",
       "  </tbody>\n",
       "</table>\n",
       "</div>"
      ],
      "text/plain": [
       "       Id   ProductId          UserId        ProfileName  \\\n",
       "0  485257  B001RVFERK  A21SYVGVNG8RAS  Jennifer Sullivan   \n",
       "1  485258  B001RVFERK   AQJYXC0MPRQJL          B. Perrin   \n",
       "2  485259  B001RVFERK  A30NYUHEDLWI0Y    Miriam \"Miriam\"   \n",
       "3  485260  B001RVFERK  A2NU55U9LKTB5J           divarett   \n",
       "4  485261  B001RVFERK  A225F7QFP5LIW2               ccde   \n",
       "\n",
       "   HelpfulnessNumerator  HelpfulnessDenominator  Score        Time  \\\n",
       "0                     1                       1      5  1298851200   \n",
       "1                     1                       1      5  1298851200   \n",
       "2                     1                       1      5  1291852800   \n",
       "3                     1                       1      3  1286928000   \n",
       "4                     1                       1      5  1286236800   \n",
       "\n",
       "                                      Summary  \\\n",
       "0                               Yummy snacks!   \n",
       "1  Great chip that is different from the rest   \n",
       "2          Great  Alternative to Potato Chips   \n",
       "3                  Not somthing I would crave   \n",
       "4                       healthy and delicious   \n",
       "\n",
       "                                                Text  \n",
       "0  Popchips are the bomb!!  I use the parmesan ga...  \n",
       "1  I like the puffed nature of this chip that mak...  \n",
       "2  I just love these chips!  I was always a big f...  \n",
       "3  These tasted like potatoe stix, that we got in...  \n",
       "4  These chips are great!  They look almost like ...  "
      ]
     },
     "execution_count": 19,
     "metadata": {},
     "output_type": "execute_result"
    }
   ],
   "source": [
    "\n",
    "data_df.head()"
   ]
  },
  {
   "cell_type": "code",
   "execution_count": 21,
   "metadata": {},
   "outputs": [
    {
     "data": {
      "text/plain": [
       "\"I first sampled these chips at a volleyball tournament in California.  I'm a big chip lover, and these are by far the best chips I've ever had.  Better than the baked; not greasy at all, sturdy for dips.  I highly recommend these chips to any chip lover!  (I've not purchased them from Amazon, so I don't know how they will fare during shipping.)\""
      ]
     },
     "execution_count": 21,
     "metadata": {},
     "output_type": "execute_result"
    }
   ],
   "source": [
    "example_text  =  data_df['Text'][59]\n",
    "example_text"
   ]
  },
  {
   "cell_type": "code",
   "execution_count": 23,
   "metadata": {},
   "outputs": [
    {
     "name": "stdout",
     "output_type": "stream",
     "text": [
      "showing info https://raw.githubusercontent.com/nltk/nltk_data/gh-pages/index.xml\n"
     ]
    },
    {
     "data": {
      "text/plain": [
       "True"
      ]
     },
     "execution_count": 23,
     "metadata": {},
     "output_type": "execute_result"
    }
   ],
   "source": [
    "nltk.download()"
   ]
  }
 ],
 "metadata": {
  "kernelspec": {
   "display_name": "uxs24",
   "language": "python",
   "name": "python3"
  },
  "language_info": {
   "codemirror_mode": {
    "name": "ipython",
    "version": 3
   },
   "file_extension": ".py",
   "mimetype": "text/x-python",
   "name": "python",
   "nbconvert_exporter": "python",
   "pygments_lexer": "ipython3",
   "version": "3.9.19"
  }
 },
 "nbformat": 4,
 "nbformat_minor": 2
}
